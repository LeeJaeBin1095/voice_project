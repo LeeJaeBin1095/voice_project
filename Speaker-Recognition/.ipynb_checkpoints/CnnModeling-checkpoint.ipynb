{
 "cells": [
  {
   "cell_type": "code",
   "execution_count": 1,
   "id": "e5382b1d",
   "metadata": {},
   "outputs": [],
   "source": [
    "import numpy as np\n",
    "import matplotlib.pyplot as plt\n",
    "import os\n",
    "import random as rn\n",
    "import pandas as pd\n",
    "from sklearn.model_selection import train_test_split\n",
    "import time\n",
    "# wav 파일\n",
    "from scipy.io import wavfile\n",
    "from collections import defaultdict, Counter\n",
    "from scipy import signal\n",
    "import wave\n",
    "# mfcc\n",
    "import librosa\n",
    "import librosa.display\n",
    "# 마이크를 사용하기 위한 라이브러리\n",
    "import pyaudio \n",
    "import tensorflow as tf\n",
    "import keras\n",
    "# 텐서플로우, 케라스\n",
    "from keras.engine import Model\n",
    "from keras.utils import to_categorical\n",
    "from tensorflow.keras.models import Sequential\n",
    "from tensorflow.keras.layers import *\n",
    "from tensorflow.keras.callbacks import EarlyStopping, ModelCheckpoint\n",
    "from tensorflow.keras.models import load_model"
   ]
  },
  {
   "cell_type": "code",
   "execution_count": 2,
   "id": "52b72340",
   "metadata": {},
   "outputs": [],
   "source": [
    "# mfcc 변수 설정 \n",
    "FORMAT = pyaudio.paInt16\n",
    "CHANNELS = 1\n",
    "RATE = 44100 #비트레이트 \n",
    "CHUNK = int(RATE / 10) # 버퍼 사이즈 1초당 44100비트레이트 이므로 100ms단위\n",
    "RECORD_SECONDS = 5 # 녹음할 시간\n",
    "WAVE_OUTPUT_FILENAME = \"output.wav\"\n",
    "DATA_PATH = \"./data/\"  # 데이터가 저장될 폴더\n",
    "\n",
    "# mfcc 후 저장될 공간 \n",
    "X_train = [] \n",
    "X_test = []\n",
    "Y_train = []\n",
    "Y_test = []\n",
    "tf_classes = 0"
   ]
  },
  {
   "cell_type": "code",
   "execution_count": 3,
   "id": "85a97407",
   "metadata": {},
   "outputs": [],
   "source": [
    "def load_wave_generator(path): \n",
    "       \n",
    "    batch_waves = []\n",
    "    labels = []\n",
    "    X_data = []\n",
    "    Y_label = []\n",
    "\n",
    "    \n",
    "    global X_train, X_test, Y_train, Y_test, tf_classes\n",
    "    \n",
    "    folders = os.listdir(path)\n",
    "    \n",
    "     \n",
    "\n",
    "    for folder in folders:\n",
    "        if not os.path.isdir(path):continue #폴더가 아니면 continue                   \n",
    "        files = os.listdir(path+\"/\"+folder)        \n",
    "        print(\"Foldername :\",folder,\"-\",len(files),\"파일\")\n",
    "        #폴더 이름과 그 폴더에 속하는 파일 갯수 출력\n",
    "        for wav in files:\n",
    "            if not wav.endswith(\".wav\"):continue\n",
    "            else:               \n",
    "                y, sr = librosa.load(path+\"/\"+folder+\"/\"+wav)\n",
    "                mfcc = librosa.feature.mfcc(y=y, sr=sr, n_mfcc=20, hop_length=int(sr*0.01),n_fft=int(sr*0.02)).T                \n",
    "                \n",
    "                X_data.extend(mfcc)\n",
    "                label = [0 for i in range(len(folders))]\n",
    "                label[tf_classes] = 1\n",
    "                \n",
    "                for i in range(len(mfcc)):\n",
    "                    Y_label.append(label)\n",
    "                #print('Y : ', Y_label)\n",
    "        tf_classes = tf_classes+1\n",
    "    print(\"X_data :\",np.shape(X_data))\n",
    "    print(\"Y_label :\",np.shape(Y_label))\n",
    "    X_train, X_test, Y_train, Y_test = train_test_split(np.array(X_data), np.array(Y_label))\n",
    "    \n",
    "    xy = (X_train, X_test, Y_train, Y_test)"
   ]
  },
  {
   "cell_type": "code",
   "execution_count": 4,
   "id": "38fc4894",
   "metadata": {},
   "outputs": [
    {
     "name": "stdout",
     "output_type": "stream",
     "text": [
      "Foldername : 00 - 20 파일\n",
      "Foldername : 05 - 0 파일\n",
      "Foldername : 06 - 0 파일\n",
      "Foldername : 07 - 0 파일\n",
      "Foldername : 08 - 0 파일\n",
      "Foldername : 09 - 0 파일\n",
      "Foldername : 10 - 0 파일\n",
      "X_data : (10040, 20)\n",
      "Y_label : (10040, 7)\n"
     ]
    }
   ],
   "source": [
    "load_wave_generator(DATA_PATH)"
   ]
  },
  {
   "cell_type": "code",
   "execution_count": 5,
   "id": "324827b4",
   "metadata": {},
   "outputs": [
    {
     "name": "stdout",
     "output_type": "stream",
     "text": [
      "7 개의 클래스!!\n",
      "X_train : (7530, 20)\n",
      "Y_train : (7530, 7)\n",
      "X_test : (2510, 20)\n",
      "Y_test : (2510, 7)\n"
     ]
    }
   ],
   "source": [
    "print(tf_classes,\"개의 클래스!!\")\n",
    "print(\"X_train :\",np.shape(X_train))\n",
    "print(\"Y_train :\",np.shape(Y_train))\n",
    "print(\"X_test :\",np.shape(X_test))\n",
    "print(\"Y_test :\",np.shape(Y_test))"
   ]
  },
  {
   "cell_type": "code",
   "execution_count": 6,
   "id": "cedeb39f",
   "metadata": {},
   "outputs": [
    {
     "name": "stdout",
     "output_type": "stream",
     "text": [
      "(7530, 20, 1)\n",
      "(2510, 20, 1)\n"
     ]
    }
   ],
   "source": [
    "XX_train = np.expand_dims(X_train, -1) # 차수 늘리기\n",
    "XX_test = np.expand_dims(X_test, -1) \n",
    "print(XX_train.shape)\n",
    "print(XX_test.shape)"
   ]
  },
  {
   "cell_type": "code",
   "execution_count": 7,
   "id": "b20d5ea7",
   "metadata": {},
   "outputs": [
    {
     "name": "stdout",
     "output_type": "stream",
     "text": [
      "Model: \"functional_1\"\n",
      "_________________________________________________________________\n",
      "Layer (type)                 Output Shape              Param #   \n",
      "=================================================================\n",
      "input_1 (InputLayer)         [(None, 20, 1)]           0         \n",
      "_________________________________________________________________\n",
      "conv1d (Conv1D)              (None, 20, 32)            192       \n",
      "_________________________________________________________________\n",
      "conv1d_1 (Conv1D)            (None, 20, 64)            10304     \n",
      "_________________________________________________________________\n",
      "conv1d_2 (Conv1D)            (None, 20, 128)           41088     \n",
      "_________________________________________________________________\n",
      "conv1d_3 (Conv1D)            (None, 20, 256)           164096    \n",
      "_________________________________________________________________\n",
      "global_max_pooling1d (Global (None, 256)               0         \n",
      "_________________________________________________________________\n",
      "flatten (Flatten)            (None, 256)               0         \n",
      "_________________________________________________________________\n",
      "dense (Dense)                (None, 512)               131584    \n",
      "_________________________________________________________________\n",
      "batch_normalization (BatchNo (None, 512)               2048      \n",
      "_________________________________________________________________\n",
      "dropout (Dropout)            (None, 512)               0         \n",
      "_________________________________________________________________\n",
      "dense_1 (Dense)              (None, 256)               131328    \n",
      "_________________________________________________________________\n",
      "batch_normalization_1 (Batch (None, 256)               1024      \n",
      "_________________________________________________________________\n",
      "dropout_1 (Dropout)          (None, 256)               0         \n",
      "_________________________________________________________________\n",
      "dense_2 (Dense)              (None, 128)               32896     \n",
      "_________________________________________________________________\n",
      "batch_normalization_2 (Batch (None, 128)               512       \n",
      "_________________________________________________________________\n",
      "dropout_2 (Dropout)          (None, 128)               0         \n",
      "_________________________________________________________________\n",
      "dense_3 (Dense)              (None, 64)                8256      \n",
      "_________________________________________________________________\n",
      "batch_normalization_3 (Batch (None, 64)                256       \n",
      "_________________________________________________________________\n",
      "dropout_3 (Dropout)          (None, 64)                0         \n",
      "_________________________________________________________________\n",
      "dense_4 (Dense)              (None, 7)                 455       \n",
      "=================================================================\n",
      "Total params: 524,039\n",
      "Trainable params: 522,119\n",
      "Non-trainable params: 1,920\n",
      "_________________________________________________________________\n"
     ]
    }
   ],
   "source": [
    "def conv1d_make():\n",
    "    i = 5   ## kernel_size\n",
    "    input_layer = tf.keras.Input(XX_train[0].shape)\n",
    "    conv1 = tf.keras.layers.Conv1D(32,kernel_size=i,padding='same')(input_layer)\n",
    "    conv2 = tf.keras.layers.Conv1D(64,kernel_size=i,padding='same')(conv1)\n",
    "    conv3 = tf.keras.layers.Conv1D(128,kernel_size=i,padding='same')(conv2)\n",
    "    conv4 = tf.keras.layers.Conv1D(256,kernel_size=i,padding='same')(conv3)\n",
    "    pool = GlobalMaxPooling1D()(conv4)\n",
    "    flat = Flatten()(pool)\n",
    "    \n",
    "    dense = Dense(512, activation = 'relu')(flat)\n",
    "    batch = BatchNormalization()(dense)\n",
    "    drop = Dropout(0.3)(batch)\n",
    "    \n",
    "    dense = Dense(256, activation = 'relu')(drop)\n",
    "    batch = BatchNormalization()(dense)\n",
    "    drop = Dropout(0.3)(batch)\n",
    "    \n",
    "    dense = Dense(128, activation = 'relu')(drop)\n",
    "    batch = BatchNormalization()(dense)\n",
    "    drop = Dropout(0.3)(batch)\n",
    "    \n",
    "    dense = Dense(64, activation = 'relu')(drop)\n",
    "    batch = BatchNormalization()(dense)\n",
    "    drop = Dropout(0.3)(batch)\n",
    "    \n",
    "    \n",
    "    output_layer = tf.keras.layers.Dense(tf_classes, activation='softmax')(drop)\n",
    "    \n",
    "    return tf.keras.models.Model(input_layer, output_layer)\n",
    "    \n",
    "model = conv1d_make()\n",
    "model.summary()"
   ]
  },
  {
   "cell_type": "code",
   "execution_count": 8,
   "id": "a28b1220",
   "metadata": {},
   "outputs": [],
   "source": [
    "model.compile(loss = 'categorical_crossentropy',\n",
    "              optimizer = 'adam',             \n",
    "             metrics = ['accuracy'])"
   ]
  },
  {
   "cell_type": "code",
   "execution_count": 4,
   "id": "fb8fbbfc",
   "metadata": {},
   "outputs": [],
   "source": [
    "# 모델 시작 시간 확인\n",
    "start = time.time()"
   ]
  },
  {
   "cell_type": "code",
   "execution_count": 10,
   "id": "6418d763",
   "metadata": {},
   "outputs": [
    {
     "name": "stdout",
     "output_type": "stream",
     "text": [
      "Epoch 1/38\n",
      "377/377 [==============================] - 10s 26ms/step - loss: 1.2608 - accuracy: 0.5959 - val_loss: 2.6192 - val_accuracy: 0.4278\n",
      "Epoch 2/38\n",
      "377/377 [==============================] - 9s 25ms/step - loss: 0.7030 - accuracy: 0.7457 - val_loss: 0.6688 - val_accuracy: 0.7569\n",
      "Epoch 3/38\n",
      "377/377 [==============================] - 10s 25ms/step - loss: 0.5681 - accuracy: 0.7955 - val_loss: 0.4601 - val_accuracy: 0.8294\n",
      "Epoch 4/38\n",
      "377/377 [==============================] - 9s 25ms/step - loss: 0.4984 - accuracy: 0.8223 - val_loss: 0.7096 - val_accuracy: 0.7592\n",
      "Epoch 5/38\n",
      "377/377 [==============================] - 9s 25ms/step - loss: 0.4797 - accuracy: 0.8291 - val_loss: 0.4494 - val_accuracy: 0.8272\n",
      "Epoch 6/38\n",
      "377/377 [==============================] - 9s 25ms/step - loss: 0.4408 - accuracy: 0.8448 - val_loss: 0.4420 - val_accuracy: 0.8456\n",
      "Epoch 7/38\n",
      "377/377 [==============================] - 9s 25ms/step - loss: 0.4178 - accuracy: 0.8510 - val_loss: 0.3647 - val_accuracy: 0.8705\n",
      "Epoch 8/38\n",
      "377/377 [==============================] - 9s 25ms/step - loss: 0.4080 - accuracy: 0.8570 - val_loss: 0.3736 - val_accuracy: 0.8625\n",
      "Epoch 9/38\n",
      "377/377 [==============================] - 9s 25ms/step - loss: 0.3956 - accuracy: 0.8599 - val_loss: 0.4622 - val_accuracy: 0.8328\n",
      "Epoch 10/38\n",
      "377/377 [==============================] - 9s 25ms/step - loss: 0.3849 - accuracy: 0.8633 - val_loss: 0.6050 - val_accuracy: 0.8049\n",
      "Epoch 11/38\n",
      "377/377 [==============================] - 9s 25ms/step - loss: 0.4251 - accuracy: 0.8482 - val_loss: 0.4110 - val_accuracy: 0.8537\n",
      "Epoch 12/38\n",
      "377/377 [==============================] - 9s 25ms/step - loss: 0.3807 - accuracy: 0.8657 - val_loss: 0.3903 - val_accuracy: 0.8574\n",
      "Epoch 13/38\n",
      "377/377 [==============================] - 9s 25ms/step - loss: 0.3630 - accuracy: 0.8708 - val_loss: 0.3504 - val_accuracy: 0.8691\n",
      "Epoch 14/38\n",
      "377/377 [==============================] - 9s 25ms/step - loss: 0.3585 - accuracy: 0.8738 - val_loss: 0.5543 - val_accuracy: 0.8202\n",
      "Epoch 15/38\n",
      "377/377 [==============================] - 9s 25ms/step - loss: 0.3452 - accuracy: 0.8801 - val_loss: 0.4239 - val_accuracy: 0.8508\n",
      "Epoch 16/38\n",
      "377/377 [==============================] - 9s 25ms/step - loss: 0.3388 - accuracy: 0.8815 - val_loss: 0.3084 - val_accuracy: 0.8904\n",
      "Epoch 17/38\n",
      "377/377 [==============================] - 9s 25ms/step - loss: 0.3451 - accuracy: 0.8795 - val_loss: 0.3678 - val_accuracy: 0.8837\n",
      "Epoch 18/38\n",
      "377/377 [==============================] - 9s 25ms/step - loss: 0.3382 - accuracy: 0.8814 - val_loss: 0.3853 - val_accuracy: 0.8620\n",
      "Epoch 19/38\n",
      "377/377 [==============================] - 9s 25ms/step - loss: 0.3360 - accuracy: 0.8826 - val_loss: 0.3697 - val_accuracy: 0.8688\n",
      "Epoch 20/38\n",
      "377/377 [==============================] - 9s 25ms/step - loss: 0.3219 - accuracy: 0.8877 - val_loss: 0.2790 - val_accuracy: 0.9004\n",
      "Epoch 21/38\n",
      "377/377 [==============================] - 9s 25ms/step - loss: 0.3250 - accuracy: 0.8882 - val_loss: 0.3138 - val_accuracy: 0.8871\n",
      "Epoch 22/38\n",
      "377/377 [==============================] - 9s 25ms/step - loss: 0.3163 - accuracy: 0.8901 - val_loss: 0.3770 - val_accuracy: 0.8681\n",
      "Epoch 23/38\n",
      "377/377 [==============================] - 9s 25ms/step - loss: 0.3068 - accuracy: 0.8936 - val_loss: 0.3732 - val_accuracy: 0.8706\n",
      "Epoch 24/38\n",
      "377/377 [==============================] - 9s 25ms/step - loss: 0.3107 - accuracy: 0.8916 - val_loss: 0.3788 - val_accuracy: 0.8650\n",
      "Epoch 25/38\n",
      "377/377 [==============================] - 9s 25ms/step - loss: 0.3081 - accuracy: 0.8929 - val_loss: 0.3927 - val_accuracy: 0.8645\n",
      "Epoch 26/38\n",
      "377/377 [==============================] - 9s 25ms/step - loss: 0.3022 - accuracy: 0.8951 - val_loss: 0.2907 - val_accuracy: 0.8975\n",
      "Epoch 27/38\n",
      "377/377 [==============================] - 9s 25ms/step - loss: 0.3004 - accuracy: 0.8952 - val_loss: 0.3379 - val_accuracy: 0.8798\n",
      "Epoch 28/38\n",
      "377/377 [==============================] - 9s 25ms/step - loss: 0.2989 - accuracy: 0.8957 - val_loss: 0.3803 - val_accuracy: 0.8675\n",
      "Epoch 29/38\n",
      "377/377 [==============================] - 9s 25ms/step - loss: 0.2917 - accuracy: 0.8979 - val_loss: 0.2981 - val_accuracy: 0.8970\n",
      "Epoch 30/38\n",
      "377/377 [==============================] - 9s 25ms/step - loss: 0.2871 - accuracy: 0.9003 - val_loss: 0.4072 - val_accuracy: 0.8922\n",
      "Epoch 31/38\n",
      "377/377 [==============================] - 9s 25ms/step - loss: 0.2897 - accuracy: 0.9003 - val_loss: 0.2795 - val_accuracy: 0.8979\n",
      "Epoch 32/38\n",
      "377/377 [==============================] - 9s 25ms/step - loss: 0.2834 - accuracy: 0.9009 - val_loss: 0.2966 - val_accuracy: 0.8968\n",
      "Epoch 33/38\n",
      "377/377 [==============================] - 9s 25ms/step - loss: 0.2850 - accuracy: 0.9020 - val_loss: 0.2804 - val_accuracy: 0.8982\n",
      "Epoch 34/38\n",
      "377/377 [==============================] - 9s 25ms/step - loss: 0.2845 - accuracy: 0.9005 - val_loss: 0.2969 - val_accuracy: 0.8938\n",
      "Epoch 35/38\n",
      "377/377 [==============================] - 9s 25ms/step - loss: 0.2801 - accuracy: 0.9032 - val_loss: 0.3729 - val_accuracy: 0.8820\n",
      "Epoch 36/38\n",
      "377/377 [==============================] - 9s 25ms/step - loss: 0.2731 - accuracy: 0.9058 - val_loss: 0.3294 - val_accuracy: 0.8828\n",
      "Epoch 37/38\n",
      "377/377 [==============================] - 9s 25ms/step - loss: 0.2740 - accuracy: 0.9046 - val_loss: 0.2949 - val_accuracy: 0.8958\n",
      "Epoch 38/38\n",
      "377/377 [==============================] - 9s 25ms/step - loss: 0.2796 - accuracy: 0.9025 - val_loss: 0.3248 - val_accuracy: 0.8840\n"
     ]
    }
   ],
   "source": [
    "history = model.fit(XX_train, Y_train, epochs = 38, batch_size = 100, validation_data = (XX_test, Y_test))"
   ]
  },
  {
   "cell_type": "code",
   "execution_count": 11,
   "id": "ca165f3f",
   "metadata": {},
   "outputs": [
    {
     "name": "stdout",
     "output_type": "stream",
     "text": [
      "모델구동시간 : 358.9512872695923 sec.\n"
     ]
    }
   ],
   "source": [
    "# 모델 종료 시간 확인\n",
    "end = time.time()\n",
    "# 모델 구동 시간 계산\n",
    "print(f\"모델구동시간 : {end-start} sec.\")"
   ]
  },
  {
   "cell_type": "code",
   "execution_count": 12,
   "id": "078b2d44",
   "metadata": {},
   "outputs": [
    {
     "data": {
      "text/plain": [
       "<matplotlib.legend.Legend at 0x1d12618bbb0>"
      ]
     },
     "execution_count": 12,
     "metadata": {},
     "output_type": "execute_result"
    },
    {
     "data": {
      "image/png": "[encoded data removed]",
      "text/plain": [
       "<Figure size 432x288 with 1 Axes>"
      ]
     },
     "metadata": {
      "needs_background": "light"
     },
     "output_type": "display_data"
    }
   ],
   "source": [
    "plt.plot(history.history['accuracy'], label='Train Accuracy')\n",
    "plt.plot(history.history['val_accuracy'], label='Validation Accuracy')\n",
    "plt.xlabel('Epochs')\n",
    "plt.ylabel('Accuracy')\n",
    "plt.legend()"
   ]
  },
  {
   "cell_type": "code",
   "execution_count": 13,
   "id": "2ccb5c0f",
   "metadata": {},
   "outputs": [
    {
     "data": {
      "image/png": "[encoded data removed]",
      "text/plain": [
       "<Figure size 432x288 with 1 Axes>"
      ]
     },
     "metadata": {
      "needs_background": "light"
     },
     "output_type": "display_data"
    }
   ],
   "source": [
    "plt.plot(history.history['loss'], label='Training Loss') \n",
    "plt.plot(history.history['val_loss'], label='Validation Loss') \n",
    "plt.legend(loc='upper right') \n",
    "plt.ylabel('Cross Entropy') \n",
    "plt.title('Training and Validation Loss') \n",
    "plt.xlabel('epoch') \n",
    "plt.show()"
   ]
  },
  {
   "cell_type": "code",
   "execution_count": 14,
   "id": "88c667f7",
   "metadata": {},
   "outputs": [
    {
     "data": {
      "text/plain": [
       "((37650, 20, 1), (37650, 11))"
      ]
     },
     "execution_count": 14,
     "metadata": {},
     "output_type": "execute_result"
    }
   ],
   "source": [
    "XX_train.shape, Y_train.shape"
   ]
  },
  {
   "cell_type": "code",
   "execution_count": 9,
   "id": "fd839836",
   "metadata": {},
   "outputs": [],
   "source": [
    "def maketest(testfile, num):\n",
    "    global X_test, Y_test\n",
    "    y, sr = librosa.load(testfile)\n",
    "    X_test = librosa.feature.mfcc(y=y, sr=sr, n_mfcc=20, hop_length=int(sr*0.01),n_fft=int(sr*0.02)).T\n",
    "    '''\n",
    "    ======기존 데이터====\n",
    "    00 유인나\n",
    "    01 배철수\n",
    "    02 이재은\n",
    "    03 최일구\n",
    "    04 문재인\n",
    "    =======추가된 데이터====\n",
    "    05 김용준\n",
    "    06 이재빈\n",
    "    07 강은기\n",
    "    08 이명박\n",
    "    09 노무현\n",
    "    10 박근혜\n",
    "    '''\n",
    "    label = [0 for i in range(tf_classes)]\n",
    "    label[num] = 1\n",
    "    Y_test = []\n",
    "    for i in range(len(X_test)):\n",
    "        Y_test.append(label)\n",
    "    X_test = np.expand_dims(X_test, -1)\n",
    "    Y_test = np.array(Y_test)\n",
    "    print(np.shape(X_test))\n",
    "    print(np.shape(Y_test))"
   ]
  },
  {
   "cell_type": "code",
   "execution_count": 10,
   "id": "2a434c34",
   "metadata": {},
   "outputs": [],
   "source": [
    "datalist1 = [\"./test/test_유인나.wav\",\"./test/test_배철수.wav\",\"./test/test_이재은.wav\",\n",
    "             \"./test/test_최일구.wav\",\"./test/test_문재인.wav\"]\n",
    "datalist2 = [\"./test/test_유인나.wav\",\"./test/test_배철수.wav\",\"./test/test_이재은.wav\",\n",
    "             \"./test/test_최일구.wav\",\"./test/test_문재인.wav\",\"./test/test_김용준.wav\",\n",
    "             \"./test/test_이재빈.wav\",\"./test/test_강은기.wav\",\"./test/test_이명박.wav\",\n",
    "             \"./test/test_노무현.wav\",\"./test/test_박근혜.wav\"]\n",
    "\n"
   ]
  },
  {
   "cell_type": "code",
   "execution_count": 17,
   "id": "585b173c",
   "metadata": {},
   "outputs": [
    {
     "name": "stdout",
     "output_type": "stream",
     "text": [
      "클래스 번호 :  0\n",
      "(502, 20, 1)\n",
      "(502, 11)\n",
      "16/16 [==============================] - 0s 3ms/step - loss: 0.2267 - accuracy: 0.9243\n",
      "클래스 번호 :  1\n",
      "(502, 20, 1)\n",
      "(502, 11)\n",
      "16/16 [==============================] - 0s 3ms/step - loss: 0.2809 - accuracy: 0.9064\n",
      "클래스 번호 :  2\n",
      "(502, 20, 1)\n",
      "(502, 11)\n",
      "16/16 [==============================] - 0s 3ms/step - loss: 0.0155 - accuracy: 0.9940\n",
      "클래스 번호 :  3\n",
      "(502, 20, 1)\n",
      "(502, 11)\n",
      "16/16 [==============================] - 0s 3ms/step - loss: 0.7693 - accuracy: 0.7012\n",
      "클래스 번호 :  4\n",
      "(502, 20, 1)\n",
      "(502, 11)\n",
      "16/16 [==============================] - 0s 3ms/step - loss: 0.4061 - accuracy: 0.8586\n"
     ]
    }
   ],
   "source": [
    "j = 0\n",
    "for i in datalist1:\n",
    "    print(\"클래스 번호 : \" , j)\n",
    "    maketest(i,j)\n",
    "    model.evaluate(X_test, Y_test)\n",
    "    j+=1"
   ]
  },
  {
   "cell_type": "markdown",
   "id": "fbb71f00",
   "metadata": {},
   "source": [
    "## 테스트를 위한 모델 저장 "
   ]
  },
  {
   "cell_type": "code",
   "execution_count": 18,
   "id": "1c7b3bc8",
   "metadata": {},
   "outputs": [
    {
     "name": "stdout",
     "output_type": "stream",
     "text": [
      "WARNING:tensorflow:From C:\\Users\\LEE JaeBin\\anaconda3\\lib\\site-packages\\tensorflow\\python\\training\\tracking\\tracking.py:111: Model.state_updates (from tensorflow.python.keras.engine.training) is deprecated and will be removed in a future version.\n",
      "Instructions for updating:\n",
      "This property should not be used in TensorFlow 2.0, as updates are applied automatically.\n",
      "WARNING:tensorflow:From C:\\Users\\LEE JaeBin\\anaconda3\\lib\\site-packages\\tensorflow\\python\\training\\tracking\\tracking.py:111: Layer.updates (from tensorflow.python.keras.engine.base_layer) is deprecated and will be removed in a future version.\n",
      "Instructions for updating:\n",
      "This property should not be used in TensorFlow 2.0, as updates are applied automatically.\n",
      "INFO:tensorflow:Assets written to: test01_model\\assets\n"
     ]
    }
   ],
   "source": [
    "model.save(\"test01_model\")"
   ]
  },
  {
   "cell_type": "code",
   "execution_count": 11,
   "id": "978f829a",
   "metadata": {},
   "outputs": [],
   "source": [
    "test01model = keras.models.load_model(\"test01_model\")"
   ]
  },
  {
   "cell_type": "markdown",
   "id": "fc837091",
   "metadata": {},
   "source": [
    "## 사용자 추가"
   ]
  },
  {
   "cell_type": "code",
   "execution_count": 12,
   "id": "78ab4b14",
   "metadata": {},
   "outputs": [
    {
     "name": "stdout",
     "output_type": "stream",
     "text": [
      "Foldername : 00 - 20 파일\n",
      "Foldername : 01 - 20 파일\n",
      "Foldername : 02 - 20 파일\n",
      "Foldername : 03 - 20 파일\n",
      "Foldername : 04 - 20 파일\n",
      "Foldername : 05 - 20 파일\n",
      "Foldername : 06 - 20 파일\n",
      "Foldername : 07 - 20 파일\n",
      "Foldername : 08 - 20 파일\n",
      "Foldername : 09 - 20 파일\n",
      "Foldername : 10 - 20 파일\n",
      "X_data : (110805, 20)\n",
      "Y_label : (110805, 11)\n",
      "(83103, 20, 1)\n",
      "(27702, 20, 1)\n"
     ]
    }
   ],
   "source": [
    "DATA_PATH = \"./data2/\"   \n",
    "X_train = []#train_data 저장할 공간\n",
    "X_test = []\n",
    "Y_train = []\n",
    "Y_test = []\n",
    "tf_classes = 0\n",
    "load_wave_generator(DATA_PATH)\n",
    "XX_train = np.expand_dims(X_train, -1) # 차수 늘리기\n",
    "XX_test = np.expand_dims(X_test, -1) \n",
    "print(XX_train.shape)\n",
    "print(XX_test.shape)"
   ]
  },
  {
   "cell_type": "code",
   "execution_count": 13,
   "id": "403029d0",
   "metadata": {},
   "outputs": [],
   "source": [
    "start = time.time()"
   ]
  },
  {
   "cell_type": "code",
   "execution_count": null,
   "id": "dfac1b32",
   "metadata": {},
   "outputs": [
    {
     "name": "stdout",
     "output_type": "stream",
     "text": [
      "Epoch 1/40\n",
      "832/832 [==============================] - 20s 24ms/step - loss: 1.6049 - accuracy: 0.6160 - val_loss: 0.6938 - val_accuracy: 0.7715\n",
      "Epoch 2/40\n",
      "832/832 [==============================] - 20s 24ms/step - loss: 0.7397 - accuracy: 0.7650 - val_loss: 0.6879 - val_accuracy: 0.8332\n",
      "Epoch 3/40\n",
      "832/832 [==============================] - 20s 24ms/step - loss: 0.6226 - accuracy: 0.8028 - val_loss: 0.4397 - val_accuracy: 0.8609\n",
      "Epoch 4/40\n",
      "832/832 [==============================] - 21s 25ms/step - loss: 0.5597 - accuracy: 0.8213 - val_loss: 0.4855 - val_accuracy: 0.8539\n",
      "Epoch 5/40\n",
      "832/832 [==============================] - 22s 26ms/step - loss: 0.5276 - accuracy: 0.8305 - val_loss: 0.4678 - val_accuracy: 0.8534\n",
      "Epoch 6/40\n",
      "832/832 [==============================] - 23s 27ms/step - loss: 0.5141 - accuracy: 0.8344 - val_loss: 0.6706 - val_accuracy: 0.8564\n",
      "Epoch 7/40\n",
      "832/832 [==============================] - 21s 25ms/step - loss: 0.5854 - accuracy: 0.8090 - val_loss: 0.6395 - val_accuracy: 0.8500\n",
      "Epoch 8/40\n",
      "832/832 [==============================] - 21s 25ms/step - loss: 0.5305 - accuracy: 0.8271 - val_loss: 7.6825 - val_accuracy: 0.8281\n",
      "Epoch 9/40\n",
      "832/832 [==============================] - 21s 26ms/step - loss: 0.4692 - accuracy: 0.8463 - val_loss: 7.2853 - val_accuracy: 0.7553\n",
      "Epoch 10/40\n",
      "832/832 [==============================] - 25s 30ms/step - loss: 0.5011 - accuracy: 0.8365 - val_loss: 7.2027 - val_accuracy: 0.8590\n",
      "Epoch 11/40\n",
      "832/832 [==============================] - 20s 24ms/step - loss: 0.5041 - accuracy: 0.8343 - val_loss: 3.3843 - val_accuracy: 0.8474\n",
      "Epoch 12/40\n",
      "832/832 [==============================] - 20s 24ms/step - loss: 0.4730 - accuracy: 0.8453 - val_loss: 4.5904 - val_accuracy: 0.8635\n",
      "Epoch 13/40\n",
      "832/832 [==============================] - 20s 24ms/step - loss: 0.4877 - accuracy: 0.8396 - val_loss: 6.0778 - val_accuracy: 0.8566\n",
      "Epoch 14/40\n",
      " 28/832 [>.............................] - ETA: 17s - loss: 0.9554 - accuracy: 0.7125"
     ]
    }
   ],
   "source": [
    "history = test01model.fit(XX_train, Y_train, epochs = 40, batch_size = 100, validation_data = (XX_test, Y_test))"
   ]
  },
  {
   "cell_type": "code",
   "execution_count": null,
   "id": "d7f127c6",
   "metadata": {},
   "outputs": [],
   "source": [
    "# 모델 종료 시간 확인\n",
    "end = time.time()\n",
    "# 모델 구동 시간 계산\n",
    "print(f\"모델구동시간 : {end-start} sec.\")"
   ]
  },
  {
   "cell_type": "code",
   "execution_count": null,
   "id": "95e577bc",
   "metadata": {},
   "outputs": [],
   "source": [
    "plt.plot(history.history['accuracy'], label='Train Accuracy')\n",
    "plt.plot(history.history['val_accuracy'], label='Validation Accuracy')\n",
    "plt.xlabel('Epochs')\n",
    "plt.ylabel('Accuracy')\n",
    "plt.legend()"
   ]
  },
  {
   "cell_type": "code",
   "execution_count": null,
   "id": "d312725b",
   "metadata": {},
   "outputs": [],
   "source": [
    "plt.plot(history.history['loss'], label='Training Loss') \n",
    "plt.plot(history.history['val_loss'], label='Validation Loss') \n",
    "plt.legend(loc='upper right') \n",
    "plt.ylabel('Cross Entropy') \n",
    "plt.title('Training and Validation Loss') \n",
    "plt.xlabel('epoch') \n",
    "plt.show()"
   ]
  },
  {
   "cell_type": "code",
   "execution_count": null,
   "id": "e8dc5d3c",
   "metadata": {},
   "outputs": [],
   "source": [
    "j = 0\n",
    "for i in datalist2:\n",
    "    print(\"클래스 번호 : \" , j)\n",
    "    maketest(i,j)\n",
    "    test01model.evaluate(X_test, Y_test)\n",
    "    j+=1"
   ]
  },
  {
   "cell_type": "markdown",
   "id": "1fdaa874",
   "metadata": {},
   "source": [
    "## 새로운 모델인 경우"
   ]
  },
  {
   "cell_type": "code",
   "execution_count": 11,
   "id": "e41368c8",
   "metadata": {},
   "outputs": [
    {
     "name": "stdout",
     "output_type": "stream",
     "text": [
      "Model: \"functional_3\"\n",
      "_________________________________________________________________\n",
      "Layer (type)                 Output Shape              Param #   \n",
      "=================================================================\n",
      "input_2 (InputLayer)         [(None, 20, 1)]           0         \n",
      "_________________________________________________________________\n",
      "conv1d_4 (Conv1D)            (None, 20, 32)            192       \n",
      "_________________________________________________________________\n",
      "conv1d_5 (Conv1D)            (None, 20, 64)            10304     \n",
      "_________________________________________________________________\n",
      "conv1d_6 (Conv1D)            (None, 20, 128)           41088     \n",
      "_________________________________________________________________\n",
      "conv1d_7 (Conv1D)            (None, 20, 256)           164096    \n",
      "_________________________________________________________________\n",
      "global_max_pooling1d_1 (Glob (None, 256)               0         \n",
      "_________________________________________________________________\n",
      "flatten_1 (Flatten)          (None, 256)               0         \n",
      "_________________________________________________________________\n",
      "dense_5 (Dense)              (None, 512)               131584    \n",
      "_________________________________________________________________\n",
      "batch_normalization_4 (Batch (None, 512)               2048      \n",
      "_________________________________________________________________\n",
      "dropout_4 (Dropout)          (None, 512)               0         \n",
      "_________________________________________________________________\n",
      "dense_6 (Dense)              (None, 256)               131328    \n",
      "_________________________________________________________________\n",
      "batch_normalization_5 (Batch (None, 256)               1024      \n",
      "_________________________________________________________________\n",
      "dropout_5 (Dropout)          (None, 256)               0         \n",
      "_________________________________________________________________\n",
      "dense_7 (Dense)              (None, 128)               32896     \n",
      "_________________________________________________________________\n",
      "batch_normalization_6 (Batch (None, 128)               512       \n",
      "_________________________________________________________________\n",
      "dropout_6 (Dropout)          (None, 128)               0         \n",
      "_________________________________________________________________\n",
      "dense_8 (Dense)              (None, 64)                8256      \n",
      "_________________________________________________________________\n",
      "batch_normalization_7 (Batch (None, 64)                256       \n",
      "_________________________________________________________________\n",
      "dropout_7 (Dropout)          (None, 64)                0         \n",
      "_________________________________________________________________\n",
      "dense_9 (Dense)              (None, 11)                715       \n",
      "=================================================================\n",
      "Total params: 524,299\n",
      "Trainable params: 522,379\n",
      "Non-trainable params: 1,920\n",
      "_________________________________________________________________\n"
     ]
    }
   ],
   "source": [
    "model2 = conv1d_make()\n",
    "model2.summary()"
   ]
  },
  {
   "cell_type": "code",
   "execution_count": 12,
   "id": "8f918a3f",
   "metadata": {},
   "outputs": [],
   "source": [
    "model2.compile(loss = 'categorical_crossentropy',\n",
    "              optimizer = 'adam',             \n",
    "             metrics = ['accuracy'])"
   ]
  },
  {
   "cell_type": "code",
   "execution_count": 13,
   "id": "d2e04508",
   "metadata": {},
   "outputs": [
    {
     "name": "stdout",
     "output_type": "stream",
     "text": [
      "Foldername : 00 - 20 파일\n",
      "Foldername : 01 - 20 파일\n",
      "Foldername : 02 - 20 파일\n",
      "Foldername : 03 - 20 파일\n",
      "Foldername : 04 - 20 파일\n",
      "Foldername : 05 - 20 파일\n",
      "Foldername : 06 - 20 파일\n",
      "Foldername : 07 - 20 파일\n",
      "Foldername : 08 - 20 파일\n",
      "Foldername : 09 - 20 파일\n",
      "Foldername : 10 - 20 파일\n",
      "X_data : (110805, 20)\n",
      "Y_label : (110805, 11)\n",
      "(83103, 20, 1)\n",
      "(27702, 20, 1)\n"
     ]
    }
   ],
   "source": [
    "DATA_PATH = \"./data2/\"   # 김용준만 추가 \n",
    "X_train = []#train_data 저장할 공간\n",
    "X_test = []\n",
    "Y_train = []\n",
    "Y_test = []\n",
    "tf_classes = 0\n",
    "load_wave_generator(DATA_PATH)\n",
    "XX_train = np.expand_dims(X_train, -1) # 차수 늘리기\n",
    "XX_test = np.expand_dims(X_test, -1) \n",
    "print(XX_train.shape)\n",
    "print(XX_test.shape)"
   ]
  },
  {
   "cell_type": "code",
   "execution_count": 14,
   "id": "d4b272fe",
   "metadata": {},
   "outputs": [],
   "source": [
    "# 모델 구현 시간 체크\n",
    "import time\n",
    "# 시작시간 체크\n",
    "start = time.time()"
   ]
  },
  {
   "cell_type": "code",
   "execution_count": 15,
   "id": "804035c3",
   "metadata": {},
   "outputs": [
    {
     "name": "stdout",
     "output_type": "stream",
     "text": [
      "Epoch 1/50\n",
      "832/832 [==============================] - 21s 25ms/step - loss: 1.1362 - accuracy: 0.6111 - val_loss: 1.4767 - val_accuracy: 0.5701\n",
      "Epoch 2/50\n",
      "832/832 [==============================] - 21s 25ms/step - loss: 0.7107 - accuracy: 0.7581 - val_loss: 1.0145 - val_accuracy: 0.6706\n",
      "Epoch 3/50\n",
      "832/832 [==============================] - 20s 25ms/step - loss: 0.6951 - accuracy: 0.7656 - val_loss: 0.6909 - val_accuracy: 0.7627\n",
      "Epoch 4/50\n",
      "832/832 [==============================] - 22s 26ms/step - loss: 0.5925 - accuracy: 0.7993 - val_loss: 0.8433 - val_accuracy: 0.7080\n",
      "Epoch 5/50\n",
      "832/832 [==============================] - 21s 25ms/step - loss: 0.5906 - accuracy: 0.8011 - val_loss: 0.5416 - val_accuracy: 0.8168\n",
      "Epoch 6/50\n",
      "832/832 [==============================] - 20s 24ms/step - loss: 0.5606 - accuracy: 0.8112 - val_loss: 0.4439 - val_accuracy: 0.8447\n",
      "Epoch 7/50\n",
      "832/832 [==============================] - 20s 24ms/step - loss: 0.5224 - accuracy: 0.8256 - val_loss: 0.4383 - val_accuracy: 0.8497\n",
      "Epoch 8/50\n",
      "832/832 [==============================] - 20s 24ms/step - loss: 0.5030 - accuracy: 0.8315 - val_loss: 0.4125 - val_accuracy: 0.8600\n",
      "Epoch 9/50\n",
      "832/832 [==============================] - 20s 24ms/step - loss: 0.4844 - accuracy: 0.8390 - val_loss: 0.4115 - val_accuracy: 0.8573\n",
      "Epoch 10/50\n",
      "832/832 [==============================] - 20s 24ms/step - loss: 0.4845 - accuracy: 0.8377 - val_loss: 1.3430 - val_accuracy: 0.8123\n",
      "Epoch 11/50\n",
      "832/832 [==============================] - 20s 25ms/step - loss: 0.5121 - accuracy: 0.8279 - val_loss: 0.5312 - val_accuracy: 0.8190\n",
      "Epoch 12/50\n",
      "832/832 [==============================] - 20s 24ms/step - loss: 0.4627 - accuracy: 0.8455 - val_loss: 0.4240 - val_accuracy: 0.8550\n",
      "Epoch 13/50\n",
      "832/832 [==============================] - 20s 24ms/step - loss: 0.4677 - accuracy: 0.8437 - val_loss: 0.4449 - val_accuracy: 0.8521\n",
      "Epoch 14/50\n",
      "832/832 [==============================] - 20s 24ms/step - loss: 0.4571 - accuracy: 0.8489 - val_loss: 0.5379 - val_accuracy: 0.8283\n",
      "Epoch 15/50\n",
      "832/832 [==============================] - 20s 24ms/step - loss: 0.4633 - accuracy: 0.8450 - val_loss: 0.4082 - val_accuracy: 0.8600\n",
      "Epoch 16/50\n",
      "832/832 [==============================] - 21s 25ms/step - loss: 0.4816 - accuracy: 0.8371 - val_loss: 0.3799 - val_accuracy: 0.8747\n",
      "Epoch 17/50\n",
      "832/832 [==============================] - 21s 25ms/step - loss: 0.5085 - accuracy: 0.8303 - val_loss: 0.4083 - val_accuracy: 0.8822\n",
      "Epoch 18/50\n",
      "832/832 [==============================] - 20s 25ms/step - loss: 0.4366 - accuracy: 0.8529 - val_loss: 0.3894 - val_accuracy: 0.8680\n",
      "Epoch 19/50\n",
      "832/832 [==============================] - 21s 25ms/step - loss: 0.4285 - accuracy: 0.8589 - val_loss: 0.3324 - val_accuracy: 0.8857\n",
      "Epoch 20/50\n",
      "832/832 [==============================] - 21s 25ms/step - loss: 0.4522 - accuracy: 0.8486 - val_loss: 0.3680 - val_accuracy: 0.8825\n",
      "Epoch 21/50\n",
      "832/832 [==============================] - 20s 25ms/step - loss: 0.4426 - accuracy: 0.8528 - val_loss: 0.3982 - val_accuracy: 0.8721\n",
      "Epoch 22/50\n",
      "832/832 [==============================] - 20s 24ms/step - loss: 0.4210 - accuracy: 0.8601 - val_loss: 1.0833 - val_accuracy: 0.8788\n",
      "Epoch 23/50\n",
      "832/832 [==============================] - 20s 25ms/step - loss: 0.4072 - accuracy: 0.8636 - val_loss: 0.3771 - val_accuracy: 0.8682\n",
      "Epoch 24/50\n",
      "832/832 [==============================] - 20s 25ms/step - loss: 0.4196 - accuracy: 0.8593 - val_loss: 0.3658 - val_accuracy: 0.8891\n",
      "Epoch 25/50\n",
      "832/832 [==============================] - 21s 25ms/step - loss: 0.3999 - accuracy: 0.8665 - val_loss: 0.3400 - val_accuracy: 0.8825\n",
      "Epoch 26/50\n",
      "832/832 [==============================] - 20s 24ms/step - loss: 0.4113 - accuracy: 0.8626 - val_loss: 0.3614 - val_accuracy: 0.8749\n",
      "Epoch 27/50\n",
      "832/832 [==============================] - 20s 25ms/step - loss: 0.4118 - accuracy: 0.8629 - val_loss: 0.3143 - val_accuracy: 0.8935\n",
      "Epoch 28/50\n",
      "832/832 [==============================] - 20s 25ms/step - loss: 0.3920 - accuracy: 0.8698 - val_loss: 0.2988 - val_accuracy: 0.8973\n",
      "Epoch 29/50\n",
      "832/832 [==============================] - 20s 25ms/step - loss: 0.3862 - accuracy: 0.8715 - val_loss: 0.4567 - val_accuracy: 0.8764\n",
      "Epoch 30/50\n",
      "832/832 [==============================] - 20s 25ms/step - loss: 0.4017 - accuracy: 0.8660 - val_loss: 0.3405 - val_accuracy: 0.8823\n",
      "Epoch 31/50\n",
      "832/832 [==============================] - 21s 25ms/step - loss: 0.3952 - accuracy: 0.8683 - val_loss: 0.3196 - val_accuracy: 0.8917\n",
      "Epoch 32/50\n",
      "832/832 [==============================] - 20s 25ms/step - loss: 0.3920 - accuracy: 0.8696 - val_loss: 0.4375 - val_accuracy: 0.8530\n",
      "Epoch 33/50\n",
      "832/832 [==============================] - 21s 25ms/step - loss: 0.4019 - accuracy: 0.8655 - val_loss: 0.3235 - val_accuracy: 0.8881\n",
      "Epoch 34/50\n",
      "832/832 [==============================] - 21s 25ms/step - loss: 0.3862 - accuracy: 0.8707 - val_loss: 0.5452 - val_accuracy: 0.8299\n",
      "Epoch 35/50\n",
      "832/832 [==============================] - 20s 25ms/step - loss: 0.4692 - accuracy: 0.8443 - val_loss: 0.3200 - val_accuracy: 0.8863\n",
      "Epoch 36/50\n",
      "832/832 [==============================] - 21s 25ms/step - loss: 0.3919 - accuracy: 0.8700 - val_loss: 0.3414 - val_accuracy: 0.8850\n",
      "Epoch 37/50\n",
      "832/832 [==============================] - 20s 25ms/step - loss: 0.4027 - accuracy: 0.8658 - val_loss: 0.3107 - val_accuracy: 0.8932\n",
      "Epoch 38/50\n",
      "832/832 [==============================] - 21s 25ms/step - loss: 0.3902 - accuracy: 0.8700 - val_loss: 0.4096 - val_accuracy: 0.8620\n",
      "Epoch 39/50\n",
      "832/832 [==============================] - 22s 26ms/step - loss: 0.3744 - accuracy: 0.8758 - val_loss: 0.3009 - val_accuracy: 0.8975\n",
      "Epoch 40/50\n",
      "832/832 [==============================] - 21s 25ms/step - loss: 0.3824 - accuracy: 0.8731 - val_loss: 0.2929 - val_accuracy: 0.9006\n",
      "Epoch 41/50\n",
      "832/832 [==============================] - 20s 25ms/step - loss: 0.3636 - accuracy: 0.8787 - val_loss: 0.3616 - val_accuracy: 0.8767\n",
      "Epoch 42/50\n",
      "832/832 [==============================] - 20s 25ms/step - loss: 0.3921 - accuracy: 0.8689 - val_loss: 0.3396 - val_accuracy: 0.8857\n",
      "Epoch 43/50\n",
      "832/832 [==============================] - 20s 25ms/step - loss: 0.3536 - accuracy: 0.8815 - val_loss: 0.3738 - val_accuracy: 0.8739\n",
      "Epoch 44/50\n",
      "832/832 [==============================] - 20s 25ms/step - loss: 0.3690 - accuracy: 0.8769 - val_loss: 0.2811 - val_accuracy: 0.9043\n",
      "Epoch 45/50\n",
      "832/832 [==============================] - 20s 24ms/step - loss: 0.3559 - accuracy: 0.8816 - val_loss: 0.3506 - val_accuracy: 0.8816\n",
      "Epoch 46/50\n",
      "832/832 [==============================] - 20s 25ms/step - loss: 0.3574 - accuracy: 0.8819 - val_loss: 0.3205 - val_accuracy: 0.8889\n",
      "Epoch 47/50\n",
      "832/832 [==============================] - 20s 25ms/step - loss: 0.4086 - accuracy: 0.8637 - val_loss: 0.2850 - val_accuracy: 0.9009\n",
      "Epoch 48/50\n",
      "832/832 [==============================] - 20s 25ms/step - loss: 0.3651 - accuracy: 0.8791 - val_loss: 0.3489 - val_accuracy: 0.8817\n",
      "Epoch 49/50\n",
      "832/832 [==============================] - 20s 25ms/step - loss: 0.3596 - accuracy: 0.8808 - val_loss: 0.3172 - val_accuracy: 0.8928\n",
      "Epoch 50/50\n",
      "832/832 [==============================] - 20s 25ms/step - loss: 0.3566 - accuracy: 0.8824 - val_loss: 0.3330 - val_accuracy: 0.8860\n"
     ]
    }
   ],
   "source": [
    "history = model2.fit(XX_train, Y_train, epochs = 50, batch_size = 100, validation_data = (XX_test, Y_test))"
   ]
  },
  {
   "cell_type": "code",
   "execution_count": 16,
   "id": "f300161b",
   "metadata": {},
   "outputs": [
    {
     "name": "stdout",
     "output_type": "stream",
     "text": [
      "모델구동시간 : 1028.4282884597778 sec.\n"
     ]
    }
   ],
   "source": [
    "# 모델 종료 시간 확인\n",
    "end = time.time()\n",
    "# 모델 구동 시간 계산\n",
    "print(f\"모델구동시간 : {end-start} sec.\")"
   ]
  },
  {
   "cell_type": "code",
   "execution_count": 17,
   "id": "3b33b436",
   "metadata": {},
   "outputs": [
    {
     "data": {
      "text/plain": [
       "<matplotlib.legend.Legend at 0x248ed999f10>"
      ]
     },
     "execution_count": 17,
     "metadata": {},
     "output_type": "execute_result"
    },
    {
     "data": {
      "image/png": "[encoded data removed]",
      "text/plain": [
       "<Figure size 432x288 with 1 Axes>"
      ]
     },
     "metadata": {
      "needs_background": "light"
     },
     "output_type": "display_data"
    }
   ],
   "source": [
    "plt.plot(history.history['accuracy'], label='Train Accuracy')\n",
    "plt.plot(history.history['val_accuracy'], label='Validation Accuracy')\n",
    "plt.xlabel('Epochs')\n",
    "plt.ylabel('Accuracy')\n",
    "plt.legend()"
   ]
  },
  {
   "cell_type": "code",
   "execution_count": 18,
   "id": "3c0613df",
   "metadata": {},
   "outputs": [
    {
     "data": {
      "image/png": "[encoded data removed]",
      "text/plain": [
       "<Figure size 432x288 with 1 Axes>"
      ]
     },
     "metadata": {
      "needs_background": "light"
     },
     "output_type": "display_data"
    }
   ],
   "source": [
    "plt.plot(history.history['loss'], label='Training Loss') \n",
    "plt.plot(history.history['val_loss'], label='Validation Loss') \n",
    "plt.legend(loc='upper right') \n",
    "plt.ylabel('Cross Entropy') \n",
    "plt.title('Training and Validation Loss') \n",
    "plt.xlabel('epoch') \n",
    "plt.show()"
   ]
  },
  {
   "cell_type": "code",
   "execution_count": 19,
   "id": "e11c8dad",
   "metadata": {},
   "outputs": [
    {
     "name": "stdout",
     "output_type": "stream",
     "text": [
      "클래스 번호 :  0\n",
      "(502, 20, 1)\n",
      "(502, 11)\n",
      "16/16 [==============================] - 0s 3ms/step - loss: 0.2939 - accuracy: 0.9203\n",
      "클래스 번호 :  1\n",
      "(502, 20, 1)\n",
      "(502, 11)\n",
      "16/16 [==============================] - 0s 3ms/step - loss: 0.1759 - accuracy: 0.9482\n",
      "클래스 번호 :  2\n",
      "(502, 20, 1)\n",
      "(502, 11)\n",
      "16/16 [==============================] - 0s 3ms/step - loss: 0.0634 - accuracy: 0.9781\n",
      "클래스 번호 :  3\n",
      "(502, 20, 1)\n",
      "(502, 11)\n",
      "16/16 [==============================] - 0s 3ms/step - loss: 0.7071 - accuracy: 0.7550\n",
      "클래스 번호 :  4\n",
      "(502, 20, 1)\n",
      "(502, 11)\n",
      "16/16 [==============================] - 0s 3ms/step - loss: 0.9564 - accuracy: 0.6892\n",
      "클래스 번호 :  5\n",
      "(502, 20, 1)\n",
      "(502, 11)\n",
      "16/16 [==============================] - 0s 3ms/step - loss: 0.0905 - accuracy: 0.9661\n",
      "클래스 번호 :  6\n",
      "(502, 20, 1)\n",
      "(502, 11)\n",
      "16/16 [==============================] - 0s 3ms/step - loss: 0.3348 - accuracy: 0.8825\n",
      "클래스 번호 :  7\n",
      "(610, 20, 1)\n",
      "(610, 11)\n",
      "20/20 [==============================] - 0s 3ms/step - loss: 0.0633 - accuracy: 0.9754\n",
      "클래스 번호 :  8\n",
      "(502, 20, 1)\n",
      "(502, 11)\n",
      "16/16 [==============================] - 0s 4ms/step - loss: 0.4182 - accuracy: 0.8367\n",
      "클래스 번호 :  9\n",
      "(502, 20, 1)\n",
      "(502, 11)\n",
      "16/16 [==============================] - 0s 3ms/step - loss: 0.6841 - accuracy: 0.7550\n",
      "클래스 번호 :  10\n",
      "(502, 20, 1)\n",
      "(502, 11)\n",
      "16/16 [==============================] - 0s 3ms/step - loss: 0.1706 - accuracy: 0.9462\n"
     ]
    }
   ],
   "source": [
    "j = 0\n",
    "for i in datalist2:\n",
    "    print(\"클래스 번호 : \" , j)\n",
    "    maketest(i,j)\n",
    "    model2.evaluate(X_test, Y_test)\n",
    "    j+=1"
   ]
  },
  {
   "cell_type": "code",
   "execution_count": null,
   "id": "57b1d3a1",
   "metadata": {},
   "outputs": [],
   "source": []
  },
  {
   "cell_type": "code",
   "execution_count": null,
   "id": "b65f11f9",
   "metadata": {},
   "outputs": [],
   "source": []
  }
 ],
 "metadata": {
  "kernelspec": {
   "display_name": "Python 3",
   "language": "python",
   "name": "python3"
  },
  "language_info": {
   "codemirror_mode": {
    "name": "ipython",
    "version": 3
   },
   "file_extension": ".py",
   "mimetype": "text/x-python",
   "name": "python",
   "nbconvert_exporter": "python",
   "pygments_lexer": "ipython3",
   "version": "3.8.8"
  }
 },
 "nbformat": 4,
 "nbformat_minor": 5
}
